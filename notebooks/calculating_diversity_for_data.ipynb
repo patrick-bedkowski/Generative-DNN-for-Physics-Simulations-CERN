{
 "cells": [
  {
   "cell_type": "code",
   "execution_count": 1,
   "metadata": {
    "collapsed": false,
    "jupyter": {
     "outputs_hidden": false
    },
    "pycharm": {
     "name": "#%%\n"
    }
   },
   "outputs": [],
   "source": [
    "%load_ext autoreload\n",
    "%autoreload 2"
   ]
  },
  {
   "cell_type": "code",
   "execution_count": 2,
   "metadata": {
    "collapsed": false,
    "jupyter": {
     "outputs_hidden": false
    },
    "pycharm": {
     "name": "#%%\n"
    }
   },
   "outputs": [],
   "source": [
    "import numpy as np\n",
    "import matplotlib.pyplot as plt\n",
    "import seaborn as sns\n",
    "import os\n",
    "import pandas as pd\n",
    "\n",
    "os.environ[\"CUDA_VISIBLE_DEVICES\"] = \"1\""
   ]
  },
  {
   "cell_type": "markdown",
   "metadata": {
    "id": "dW7jxOR-eiL5",
    "pycharm": {
     "name": "#%% md\n"
    }
   },
   "source": [
    "## Load data"
   ]
  },
  {
   "cell_type": "markdown",
   "source": [
    "### Proton dataset"
   ],
   "metadata": {
    "collapsed": false,
    "pycharm": {
     "name": "#%% md\n"
    }
   }
  },
  {
   "cell_type": "code",
   "execution_count": 3,
   "outputs": [],
   "source": [
    "DATA_DIR = r\"data/\""
   ],
   "metadata": {
    "collapsed": false,
    "pycharm": {
     "name": "#%%\n"
    }
   }
  },
  {
   "cell_type": "code",
   "execution_count": 4,
   "outputs": [
    {
     "name": "stdout",
     "output_type": "stream",
     "text": [
      "Loaded:  (400196, 44, 44) max: 6.3835066348840055\n",
      "Loaded cond:  (400196, 12) max: 7000.0 min: -7000.0\n"
     ]
    }
   ],
   "source": [
    "# load the dataset containing images from proton dataset\n",
    "data = pd.read_pickle(os.path.join(DATA_DIR, r\"data_proton_photonsum_proton_1_2312.pkl\"))\n",
    "print('Loaded: ',  data.shape, \"max:\", data.max())\n",
    "\n",
    "# Data containing particle conditional data from particle having responses with proton photon sum\n",
    "data_cond = pd.read_pickle(os.path.join(DATA_DIR, r\"data_cond_photonsum_proton_1_2312.pkl\"))\n",
    "print('Loaded cond: ',  data_cond.shape, \"max:\",data_cond.values.max(), \"min:\",data_cond.values.min())"
   ],
   "metadata": {
    "collapsed": false,
    "pycharm": {
     "name": "#%%\n"
    }
   }
  },
  {
   "cell_type": "code",
   "execution_count": 5,
   "outputs": [
    {
     "data": {
      "text/plain": "      Energy            Vx            Vy        Vz        Px        Py  \\\n0   513.3180  1.454300e-08  3.650510e-08 -0.002731  0.035456 -0.051821   \n1  1304.3400 -1.831820e-05  1.555780e-05  0.050293 -0.509192  0.461106   \n2  1014.7200 -1.831820e-05  1.555780e-05  0.050293 -0.335473  0.256277   \n3  3192.3800  0.000000e+00  0.000000e+00  0.000000  0.022422 -0.182957   \n4    68.7896 -1.747790e-06 -1.685770e-06 -0.002590 -0.004292 -0.029762   \n\n          Pz        mass  charge       std  group_number  neutron_photon_sum  \n0  -513.3180    0.000000     0.0  0.287416          3405               291.0  \n1  1304.3400    0.000000     0.0  0.105298          4208                 8.0  \n2  1014.7200    0.000000     0.0  0.125068          4011               130.0  \n3 -3192.3800  939.565413     0.0  0.820542          4691              1256.0  \n4   -68.7896    0.000000     0.0  0.036346           853                 5.0  ",
      "text/html": "<div>\n<style scoped>\n    .dataframe tbody tr th:only-of-type {\n        vertical-align: middle;\n    }\n\n    .dataframe tbody tr th {\n        vertical-align: top;\n    }\n\n    .dataframe thead th {\n        text-align: right;\n    }\n</style>\n<table border=\"1\" class=\"dataframe\">\n  <thead>\n    <tr style=\"text-align: right;\">\n      <th></th>\n      <th>Energy</th>\n      <th>Vx</th>\n      <th>Vy</th>\n      <th>Vz</th>\n      <th>Px</th>\n      <th>Py</th>\n      <th>Pz</th>\n      <th>mass</th>\n      <th>charge</th>\n      <th>std</th>\n      <th>group_number</th>\n      <th>neutron_photon_sum</th>\n    </tr>\n  </thead>\n  <tbody>\n    <tr>\n      <th>0</th>\n      <td>513.3180</td>\n      <td>1.454300e-08</td>\n      <td>3.650510e-08</td>\n      <td>-0.002731</td>\n      <td>0.035456</td>\n      <td>-0.051821</td>\n      <td>-513.3180</td>\n      <td>0.000000</td>\n      <td>0.0</td>\n      <td>0.287416</td>\n      <td>3405</td>\n      <td>291.0</td>\n    </tr>\n    <tr>\n      <th>1</th>\n      <td>1304.3400</td>\n      <td>-1.831820e-05</td>\n      <td>1.555780e-05</td>\n      <td>0.050293</td>\n      <td>-0.509192</td>\n      <td>0.461106</td>\n      <td>1304.3400</td>\n      <td>0.000000</td>\n      <td>0.0</td>\n      <td>0.105298</td>\n      <td>4208</td>\n      <td>8.0</td>\n    </tr>\n    <tr>\n      <th>2</th>\n      <td>1014.7200</td>\n      <td>-1.831820e-05</td>\n      <td>1.555780e-05</td>\n      <td>0.050293</td>\n      <td>-0.335473</td>\n      <td>0.256277</td>\n      <td>1014.7200</td>\n      <td>0.000000</td>\n      <td>0.0</td>\n      <td>0.125068</td>\n      <td>4011</td>\n      <td>130.0</td>\n    </tr>\n    <tr>\n      <th>3</th>\n      <td>3192.3800</td>\n      <td>0.000000e+00</td>\n      <td>0.000000e+00</td>\n      <td>0.000000</td>\n      <td>0.022422</td>\n      <td>-0.182957</td>\n      <td>-3192.3800</td>\n      <td>939.565413</td>\n      <td>0.0</td>\n      <td>0.820542</td>\n      <td>4691</td>\n      <td>1256.0</td>\n    </tr>\n    <tr>\n      <th>4</th>\n      <td>68.7896</td>\n      <td>-1.747790e-06</td>\n      <td>-1.685770e-06</td>\n      <td>-0.002590</td>\n      <td>-0.004292</td>\n      <td>-0.029762</td>\n      <td>-68.7896</td>\n      <td>0.000000</td>\n      <td>0.0</td>\n      <td>0.036346</td>\n      <td>853</td>\n      <td>5.0</td>\n    </tr>\n  </tbody>\n</table>\n</div>"
     },
     "execution_count": 5,
     "metadata": {},
     "output_type": "execute_result"
    }
   ],
   "source": [
    "data_cond.head()"
   ],
   "metadata": {
    "collapsed": false,
    "pycharm": {
     "name": "#%%\n"
    }
   }
  },
  {
   "cell_type": "code",
   "execution_count": 6,
   "outputs": [],
   "source": [
    "NEUTRON_PROTON_PHOTON_SUM_COLS = ['proton_photon_sum']\n",
    "neutron_proton_photon_sum_data = data_cond[NEUTRON_PROTON_PHOTON_SUM_COLS]"
   ],
   "metadata": {
    "collapsed": false,
    "pycharm": {
     "name": "#%%\n"
    }
   }
  },
  {
   "cell_type": "code",
   "execution_count": 7,
   "outputs": [],
   "source": [
    "data_cond.drop(columns=['proton_photon_sum'], inplace=True)"
   ],
   "metadata": {
    "collapsed": false,
    "pycharm": {
     "name": "#%%\n"
    }
   }
  },
  {
   "cell_type": "code",
   "execution_count": 8,
   "outputs": [],
   "source": [
    "# drop unnecessary columns\n",
    "data_cond.drop(columns=['proton_photon_sum'], inplace=True)"
   ],
   "metadata": {
    "collapsed": false,
    "pycharm": {
     "name": "#%%\n"
    }
   }
  },
  {
   "cell_type": "code",
   "execution_count": 9,
   "outputs": [
    {
     "data": {
      "text/plain": "['Energy',\n 'Vx',\n 'Vy',\n 'Vz',\n 'Px',\n 'Py',\n 'Pz',\n 'mass',\n 'charge',\n 'std',\n 'group_number']"
     },
     "execution_count": 9,
     "metadata": {},
     "output_type": "execute_result"
    }
   ],
   "source": [
    "CONDITIONAL_COLS = list(data_cond.columns)\n",
    "CONDITIONAL_COLS"
   ],
   "metadata": {
    "collapsed": false,
    "pycharm": {
     "name": "#%%\n"
    }
   }
  },
  {
   "cell_type": "markdown",
   "source": [
    "1. Flatten the proton responses dataset from shape (56, 30) to (1680, 1)"
   ],
   "metadata": {
    "collapsed": false,
    "pycharm": {
     "name": "#%% md\n"
    }
   }
  },
  {
   "cell_type": "code",
   "execution_count": 10,
   "outputs": [
    {
     "data": {
      "text/plain": "(400196, 1936)"
     },
     "execution_count": 10,
     "metadata": {},
     "output_type": "execute_result"
    }
   ],
   "source": [
    "flatten_responses = pd.DataFrame(data.reshape(len(data), -1))\n",
    "flatten_responses.shape"
   ],
   "metadata": {
    "collapsed": false,
    "pycharm": {
     "name": "#%%\n"
    }
   }
  },
  {
   "cell_type": "markdown",
   "source": [
    "2. Concatenate as columns flatten dataset to each conditional row"
   ],
   "metadata": {
    "collapsed": false,
    "pycharm": {
     "name": "#%% md\n"
    }
   }
  },
  {
   "cell_type": "code",
   "execution_count": null,
   "outputs": [],
   "source": [
    "data_all = pd.concat([data_cond, flatten_responses], axis=1)\n",
    "data_all.head()"
   ],
   "metadata": {
    "collapsed": false,
    "pycharm": {
     "name": "#%%\n"
    }
   }
  },
  {
   "cell_type": "markdown",
   "source": [
    "3. Groupby each unique combination of conditional data and calculate standard deviation for each pixel in the grouped data"
   ],
   "metadata": {
    "collapsed": false,
    "pycharm": {
     "name": "#%% md\n"
    }
   }
  },
  {
   "cell_type": "code",
   "execution_count": null,
   "outputs": [],
   "source": [
    "stddev_group = data_all.groupby(CONDITIONAL_COLS).transform(lambda x: np.std(x))\n",
    "groups_numbers = data_all.groupby(CONDITIONAL_COLS).ngroup()\n",
    "stddev_group.head()"
   ],
   "metadata": {
    "collapsed": false,
    "pycharm": {
     "name": "#%%\n"
    }
   }
  },
  {
   "cell_type": "markdown",
   "source": [
    "4. Calculate sum of stddevs of pixels"
   ],
   "metadata": {
    "collapsed": false,
    "pycharm": {
     "name": "#%% md\n"
    }
   }
  },
  {
   "cell_type": "code",
   "execution_count": null,
   "outputs": [],
   "source": [
    "sum_pixels = stddev_group.sum(axis=1)\n",
    "sum_pixels.shape, sum_pixels.head()"
   ],
   "metadata": {
    "collapsed": false,
    "pycharm": {
     "name": "#%%\n"
    }
   }
  },
  {
   "cell_type": "code",
   "execution_count": null,
   "outputs": [],
   "source": [
    "assert data_cond.shape[0] == sum_pixels.shape[0]"
   ],
   "metadata": {
    "collapsed": false,
    "pycharm": {
     "name": "#%%\n"
    }
   }
  },
  {
   "cell_type": "markdown",
   "source": [
    "5. Divide sum of stddevs by maximum value to normalize it"
   ],
   "metadata": {
    "collapsed": false,
    "pycharm": {
     "name": "#%% md\n"
    }
   }
  },
  {
   "cell_type": "code",
   "execution_count": null,
   "outputs": [],
   "source": [
    "normalized_stddevs = sum_pixels/sum_pixels.max()"
   ],
   "metadata": {
    "collapsed": false,
    "pycharm": {
     "name": "#%%\n"
    }
   }
  },
  {
   "cell_type": "markdown",
   "source": [
    "6. Assign calclations to each conditional data"
   ],
   "metadata": {
    "collapsed": false,
    "pycharm": {
     "name": "#%% md\n"
    }
   }
  },
  {
   "cell_type": "code",
   "execution_count": null,
   "outputs": [],
   "source": [
    "data_cond['std_proton'] = normalized_stddevs"
   ],
   "metadata": {
    "collapsed": false,
    "pycharm": {
     "name": "#%%\n"
    }
   }
  },
  {
   "cell_type": "code",
   "execution_count": null,
   "outputs": [],
   "source": [
    "data_cond.head()"
   ],
   "metadata": {
    "collapsed": false,
    "pycharm": {
     "name": "#%%\n"
    }
   }
  },
  {
   "cell_type": "markdown",
   "source": [
    "#### Add informative columns"
   ],
   "metadata": {
    "collapsed": false,
    "pycharm": {
     "name": "#%% md\n"
    }
   }
  },
  {
   "cell_type": "code",
   "execution_count": null,
   "outputs": [],
   "source": [
    "data_cond[NEUTRON_PROTON_PHOTON_SUM_COLS] = neutron_proton_photon_sum_data"
   ],
   "metadata": {
    "collapsed": false,
    "pycharm": {
     "name": "#%%\n"
    }
   }
  },
  {
   "cell_type": "code",
   "execution_count": null,
   "outputs": [],
   "source": [
    "data_cond['group_number'] = groups_numbers"
   ],
   "metadata": {
    "collapsed": false,
    "pycharm": {
     "name": "#%%\n"
    }
   }
  },
  {
   "cell_type": "code",
   "execution_count": null,
   "outputs": [],
   "source": [
    "data_cond['proton_photon_sum'] = np.sum(data, axis=(1,2))"
   ],
   "metadata": {
    "collapsed": false,
    "pycharm": {
     "name": "#%%\n"
    }
   }
  },
  {
   "cell_type": "code",
   "execution_count": null,
   "outputs": [],
   "source": [
    "data_cond.head()"
   ],
   "metadata": {
    "collapsed": false,
    "pycharm": {
     "name": "#%%\n"
    }
   }
  },
  {
   "cell_type": "code",
   "execution_count": 62,
   "outputs": [],
   "source": [
    "# replace the initial version of the `data_cond` with an updated one\n",
    "data_cond.to_pickle(os.path.join(DATA_DIR, r\"data_cond_photonsum_proton_1_2312.pkl\"))"
   ],
   "metadata": {
    "collapsed": false,
    "pycharm": {
     "name": "#%%\n"
    }
   }
  },
  {
   "cell_type": "markdown",
   "source": [
    "### Neutron dataset"
   ],
   "metadata": {
    "collapsed": false,
    "pycharm": {
     "name": "#%% md\n"
    }
   }
  },
  {
   "cell_type": "code",
   "execution_count": 3,
   "outputs": [],
   "source": [
    "DATA_DIR = r\"data/\""
   ],
   "metadata": {
    "collapsed": false,
    "pycharm": {
     "name": "#%%\n"
    }
   }
  },
  {
   "cell_type": "code",
   "execution_count": 4,
   "metadata": {
    "colab": {
     "base_uri": "https://localhost:8080/"
    },
    "executionInfo": {
     "elapsed": 39530,
     "status": "ok",
     "timestamp": 1623571867626,
     "user": {
      "displayName": "Jan Dubiński",
      "photoUrl": "",
      "userId": "04866767089811362617"
     },
     "user_tz": -120
    },
    "id": "Z844CMU-AReG",
    "outputId": "8cf9efbe-fe19-4f4b-c438-a6d9957d6a0e",
    "pycharm": {
     "name": "#%%\n"
    }
   },
   "outputs": [
    {
     "name": "stdout",
     "output_type": "stream",
     "text": [
      "Loaded:  (400196, 44, 44) max: 6.3835066348840055\n",
      "Loaded cond:  (400196, 12) max: 7000.0 min: -7000.0\n"
     ]
    }
   ],
   "source": [
    "# load the dataset containing images from proton dataset\n",
    "data = pd.read_pickle(os.path.join(DATA_DIR, r\"data_neutron_photonsum_neutron_1_3360.pkl\"))\n",
    "print('Loaded: ',  data.shape, \"max:\", data.max())\n",
    "\n",
    "# Data containing particle conditional data from particle having responses with proton photon sum\n",
    "data_cond = pd.read_pickle(os.path.join(DATA_DIR, r\"data_cond_neutron_photonsum_neutron_1_3360.pkl\"))\n",
    "print('Loaded cond: ',  data_cond.shape, \"max:\",data_cond.values.max(), \"min:\",data_cond.values.min())"
   ]
  },
  {
   "cell_type": "code",
   "execution_count": 23,
   "metadata": {
    "pycharm": {
     "name": "#%%\n"
    }
   },
   "outputs": [
    {
     "data": {
      "text/plain": "      Energy            Vx            Vy        Vz        Px        Py  \\\n0   513.3180  1.454300e-08  3.650510e-08 -0.002731  0.035456 -0.051821   \n1  1304.3400 -1.831820e-05  1.555780e-05  0.050293 -0.509192  0.461106   \n2  1014.7200 -1.831820e-05  1.555780e-05  0.050293 -0.335473  0.256277   \n3  3192.3800  0.000000e+00  0.000000e+00  0.000000  0.022422 -0.182957   \n4    68.7896 -1.747790e-06 -1.685770e-06 -0.002590 -0.004292 -0.029762   \n\n          Pz        mass  charge       std  group_number  neutron_photon_sum  \n0  -513.3180    0.000000     0.0  0.287416          3405               291.0  \n1  1304.3400    0.000000     0.0  0.105298          4208                 8.0  \n2  1014.7200    0.000000     0.0  0.125068          4011               130.0  \n3 -3192.3800  939.565413     0.0  0.820542          4691              1256.0  \n4   -68.7896    0.000000     0.0  0.036346           853                 5.0  ",
      "text/html": "<div>\n<style scoped>\n    .dataframe tbody tr th:only-of-type {\n        vertical-align: middle;\n    }\n\n    .dataframe tbody tr th {\n        vertical-align: top;\n    }\n\n    .dataframe thead th {\n        text-align: right;\n    }\n</style>\n<table border=\"1\" class=\"dataframe\">\n  <thead>\n    <tr style=\"text-align: right;\">\n      <th></th>\n      <th>Energy</th>\n      <th>Vx</th>\n      <th>Vy</th>\n      <th>Vz</th>\n      <th>Px</th>\n      <th>Py</th>\n      <th>Pz</th>\n      <th>mass</th>\n      <th>charge</th>\n      <th>std</th>\n      <th>group_number</th>\n      <th>neutron_photon_sum</th>\n    </tr>\n  </thead>\n  <tbody>\n    <tr>\n      <th>0</th>\n      <td>513.3180</td>\n      <td>1.454300e-08</td>\n      <td>3.650510e-08</td>\n      <td>-0.002731</td>\n      <td>0.035456</td>\n      <td>-0.051821</td>\n      <td>-513.3180</td>\n      <td>0.000000</td>\n      <td>0.0</td>\n      <td>0.287416</td>\n      <td>3405</td>\n      <td>291.0</td>\n    </tr>\n    <tr>\n      <th>1</th>\n      <td>1304.3400</td>\n      <td>-1.831820e-05</td>\n      <td>1.555780e-05</td>\n      <td>0.050293</td>\n      <td>-0.509192</td>\n      <td>0.461106</td>\n      <td>1304.3400</td>\n      <td>0.000000</td>\n      <td>0.0</td>\n      <td>0.105298</td>\n      <td>4208</td>\n      <td>8.0</td>\n    </tr>\n    <tr>\n      <th>2</th>\n      <td>1014.7200</td>\n      <td>-1.831820e-05</td>\n      <td>1.555780e-05</td>\n      <td>0.050293</td>\n      <td>-0.335473</td>\n      <td>0.256277</td>\n      <td>1014.7200</td>\n      <td>0.000000</td>\n      <td>0.0</td>\n      <td>0.125068</td>\n      <td>4011</td>\n      <td>130.0</td>\n    </tr>\n    <tr>\n      <th>3</th>\n      <td>3192.3800</td>\n      <td>0.000000e+00</td>\n      <td>0.000000e+00</td>\n      <td>0.000000</td>\n      <td>0.022422</td>\n      <td>-0.182957</td>\n      <td>-3192.3800</td>\n      <td>939.565413</td>\n      <td>0.0</td>\n      <td>0.820542</td>\n      <td>4691</td>\n      <td>1256.0</td>\n    </tr>\n    <tr>\n      <th>4</th>\n      <td>68.7896</td>\n      <td>-1.747790e-06</td>\n      <td>-1.685770e-06</td>\n      <td>-0.002590</td>\n      <td>-0.004292</td>\n      <td>-0.029762</td>\n      <td>-68.7896</td>\n      <td>0.000000</td>\n      <td>0.0</td>\n      <td>0.036346</td>\n      <td>853</td>\n      <td>5.0</td>\n    </tr>\n  </tbody>\n</table>\n</div>"
     },
     "execution_count": 23,
     "metadata": {},
     "output_type": "execute_result"
    }
   ],
   "source": [
    "data_cond.head()"
   ]
  },
  {
   "cell_type": "code",
   "execution_count": 6,
   "metadata": {
    "pycharm": {
     "name": "#%%\n"
    }
   },
   "outputs": [],
   "source": [
    "NEUTRON_PROTON_PHOTON_SUM_COLS = ['neutron_photon_sum']\n",
    "neutron_proton_photon_sum_data = data_cond[NEUTRON_PROTON_PHOTON_SUM_COLS]"
   ]
  },
  {
   "cell_type": "code",
   "execution_count": 7,
   "outputs": [],
   "source": [
    "data_cond.drop(columns=['neutron_photon_sum'], inplace=True)"
   ],
   "metadata": {
    "collapsed": false,
    "pycharm": {
     "name": "#%%\n"
    }
   }
  },
  {
   "cell_type": "code",
   "execution_count": 9,
   "metadata": {
    "pycharm": {
     "name": "#%%\n"
    }
   },
   "outputs": [
    {
     "data": {
      "text/plain": "['Energy',\n 'Vx',\n 'Vy',\n 'Vz',\n 'Px',\n 'Py',\n 'Pz',\n 'mass',\n 'charge',\n 'std',\n 'group_number']"
     },
     "execution_count": 9,
     "metadata": {},
     "output_type": "execute_result"
    }
   ],
   "source": [
    "CONDITIONAL_COLS = list(data_cond.columns)\n",
    "CONDITIONAL_COLS"
   ]
  },
  {
   "cell_type": "markdown",
   "metadata": {
    "pycharm": {
     "name": "#%% md\n"
    }
   },
   "source": [
    "1. Flatten the proton responses dataset from shape (56, 30) to (1680, 1)"
   ]
  },
  {
   "cell_type": "code",
   "execution_count": 10,
   "metadata": {
    "pycharm": {
     "name": "#%%\n"
    }
   },
   "outputs": [
    {
     "data": {
      "text/plain": "(400196, 1936)"
     },
     "execution_count": 10,
     "metadata": {},
     "output_type": "execute_result"
    }
   ],
   "source": [
    "flatten_responses = pd.DataFrame(data.reshape(len(data), -1))\n",
    "flatten_responses.shape"
   ]
  },
  {
   "cell_type": "markdown",
   "metadata": {
    "pycharm": {
     "name": "#%% md\n"
    }
   },
   "source": [
    "2. Concatenate as columns flatten dataset to each conditional row "
   ]
  },
  {
   "cell_type": "code",
   "execution_count": 11,
   "metadata": {
    "pycharm": {
     "name": "#%%\n"
    }
   },
   "outputs": [
    {
     "data": {
      "text/plain": "      Energy            Vx            Vy        Vz        Px        Py  \\\n0   513.3180  1.454300e-08  3.650510e-08 -0.002731  0.035456 -0.051821   \n1  1304.3400 -1.831820e-05  1.555780e-05  0.050293 -0.509192  0.461106   \n2  1014.7200 -1.831820e-05  1.555780e-05  0.050293 -0.335473  0.256277   \n3  3192.3800  0.000000e+00  0.000000e+00  0.000000  0.022422 -0.182957   \n4    68.7896 -1.747790e-06 -1.685770e-06 -0.002590 -0.004292 -0.029762   \n\n          Pz        mass  charge       std  ...  1926  1927  1928  1929  1930  \\\n0  -513.3180    0.000000     0.0  0.287416  ...   0.0   0.0   0.0   0.0   0.0   \n1  1304.3400    0.000000     0.0  0.105298  ...   0.0   0.0   0.0   0.0   0.0   \n2  1014.7200    0.000000     0.0  0.125068  ...   0.0   0.0   0.0   0.0   0.0   \n3 -3192.3800  939.565413     0.0  0.820542  ...   0.0   0.0   0.0   0.0   0.0   \n4   -68.7896    0.000000     0.0  0.036346  ...   0.0   0.0   0.0   0.0   0.0   \n\n   1931  1932  1933  1934  1935  \n0   0.0   0.0   0.0   0.0   0.0  \n1   0.0   0.0   0.0   0.0   0.0  \n2   0.0   0.0   0.0   0.0   0.0  \n3   0.0   0.0   0.0   0.0   0.0  \n4   0.0   0.0   0.0   0.0   0.0  \n\n[5 rows x 1947 columns]",
      "text/html": "<div>\n<style scoped>\n    .dataframe tbody tr th:only-of-type {\n        vertical-align: middle;\n    }\n\n    .dataframe tbody tr th {\n        vertical-align: top;\n    }\n\n    .dataframe thead th {\n        text-align: right;\n    }\n</style>\n<table border=\"1\" class=\"dataframe\">\n  <thead>\n    <tr style=\"text-align: right;\">\n      <th></th>\n      <th>Energy</th>\n      <th>Vx</th>\n      <th>Vy</th>\n      <th>Vz</th>\n      <th>Px</th>\n      <th>Py</th>\n      <th>Pz</th>\n      <th>mass</th>\n      <th>charge</th>\n      <th>std</th>\n      <th>...</th>\n      <th>1926</th>\n      <th>1927</th>\n      <th>1928</th>\n      <th>1929</th>\n      <th>1930</th>\n      <th>1931</th>\n      <th>1932</th>\n      <th>1933</th>\n      <th>1934</th>\n      <th>1935</th>\n    </tr>\n  </thead>\n  <tbody>\n    <tr>\n      <th>0</th>\n      <td>513.3180</td>\n      <td>1.454300e-08</td>\n      <td>3.650510e-08</td>\n      <td>-0.002731</td>\n      <td>0.035456</td>\n      <td>-0.051821</td>\n      <td>-513.3180</td>\n      <td>0.000000</td>\n      <td>0.0</td>\n      <td>0.287416</td>\n      <td>...</td>\n      <td>0.0</td>\n      <td>0.0</td>\n      <td>0.0</td>\n      <td>0.0</td>\n      <td>0.0</td>\n      <td>0.0</td>\n      <td>0.0</td>\n      <td>0.0</td>\n      <td>0.0</td>\n      <td>0.0</td>\n    </tr>\n    <tr>\n      <th>1</th>\n      <td>1304.3400</td>\n      <td>-1.831820e-05</td>\n      <td>1.555780e-05</td>\n      <td>0.050293</td>\n      <td>-0.509192</td>\n      <td>0.461106</td>\n      <td>1304.3400</td>\n      <td>0.000000</td>\n      <td>0.0</td>\n      <td>0.105298</td>\n      <td>...</td>\n      <td>0.0</td>\n      <td>0.0</td>\n      <td>0.0</td>\n      <td>0.0</td>\n      <td>0.0</td>\n      <td>0.0</td>\n      <td>0.0</td>\n      <td>0.0</td>\n      <td>0.0</td>\n      <td>0.0</td>\n    </tr>\n    <tr>\n      <th>2</th>\n      <td>1014.7200</td>\n      <td>-1.831820e-05</td>\n      <td>1.555780e-05</td>\n      <td>0.050293</td>\n      <td>-0.335473</td>\n      <td>0.256277</td>\n      <td>1014.7200</td>\n      <td>0.000000</td>\n      <td>0.0</td>\n      <td>0.125068</td>\n      <td>...</td>\n      <td>0.0</td>\n      <td>0.0</td>\n      <td>0.0</td>\n      <td>0.0</td>\n      <td>0.0</td>\n      <td>0.0</td>\n      <td>0.0</td>\n      <td>0.0</td>\n      <td>0.0</td>\n      <td>0.0</td>\n    </tr>\n    <tr>\n      <th>3</th>\n      <td>3192.3800</td>\n      <td>0.000000e+00</td>\n      <td>0.000000e+00</td>\n      <td>0.000000</td>\n      <td>0.022422</td>\n      <td>-0.182957</td>\n      <td>-3192.3800</td>\n      <td>939.565413</td>\n      <td>0.0</td>\n      <td>0.820542</td>\n      <td>...</td>\n      <td>0.0</td>\n      <td>0.0</td>\n      <td>0.0</td>\n      <td>0.0</td>\n      <td>0.0</td>\n      <td>0.0</td>\n      <td>0.0</td>\n      <td>0.0</td>\n      <td>0.0</td>\n      <td>0.0</td>\n    </tr>\n    <tr>\n      <th>4</th>\n      <td>68.7896</td>\n      <td>-1.747790e-06</td>\n      <td>-1.685770e-06</td>\n      <td>-0.002590</td>\n      <td>-0.004292</td>\n      <td>-0.029762</td>\n      <td>-68.7896</td>\n      <td>0.000000</td>\n      <td>0.0</td>\n      <td>0.036346</td>\n      <td>...</td>\n      <td>0.0</td>\n      <td>0.0</td>\n      <td>0.0</td>\n      <td>0.0</td>\n      <td>0.0</td>\n      <td>0.0</td>\n      <td>0.0</td>\n      <td>0.0</td>\n      <td>0.0</td>\n      <td>0.0</td>\n    </tr>\n  </tbody>\n</table>\n<p>5 rows × 1947 columns</p>\n</div>"
     },
     "execution_count": 11,
     "metadata": {},
     "output_type": "execute_result"
    }
   ],
   "source": [
    "data_all = pd.concat([data_cond, flatten_responses], axis=1)\n",
    "data_all.head()"
   ]
  },
  {
   "cell_type": "markdown",
   "metadata": {
    "pycharm": {
     "name": "#%% md\n"
    }
   },
   "source": [
    "3. Groupby each unique combination of conditional data and calculate standard deviation for each pixel in the grouped data"
   ]
  },
  {
   "cell_type": "code",
   "execution_count": null,
   "metadata": {
    "pycharm": {
     "name": "#%%\n",
     "is_executing": true
    }
   },
   "outputs": [],
   "source": [
    "stddev_group = data_all.groupby(CONDITIONAL_COLS).transform(lambda x: np.std(x))\n",
    "groups_numbers = data_all.groupby(CONDITIONAL_COLS).ngroup()\n",
    "stddev_group.head()"
   ]
  },
  {
   "cell_type": "markdown",
   "metadata": {
    "pycharm": {
     "name": "#%% md\n"
    }
   },
   "source": [
    "4. Calculate sum of stddevs of pixels"
   ]
  },
  {
   "cell_type": "code",
   "execution_count": null,
   "metadata": {
    "pycharm": {
     "name": "#%%\n",
     "is_executing": true
    }
   },
   "outputs": [],
   "source": [
    "sum_pixels = stddev_group.sum(axis=1)\n",
    "sum_pixels.shape, sum_pixels.head()"
   ]
  },
  {
   "cell_type": "code",
   "execution_count": null,
   "metadata": {
    "pycharm": {
     "name": "#%%\n",
     "is_executing": true
    }
   },
   "outputs": [],
   "source": [
    "assert data_cond.shape[0] == sum_pixels.shape[0]"
   ]
  },
  {
   "cell_type": "markdown",
   "metadata": {
    "pycharm": {
     "name": "#%% md\n"
    }
   },
   "source": [
    "5. Divide sum of stddevs by maximum value to normalize it"
   ]
  },
  {
   "cell_type": "code",
   "execution_count": null,
   "metadata": {
    "pycharm": {
     "name": "#%%\n",
     "is_executing": true
    }
   },
   "outputs": [],
   "source": [
    "normalized_stddevs = sum_pixels/sum_pixels.max()"
   ]
  },
  {
   "cell_type": "markdown",
   "metadata": {
    "pycharm": {
     "name": "#%% md\n"
    }
   },
   "source": [
    "6. Assign calclations to each conditional data"
   ]
  },
  {
   "cell_type": "code",
   "execution_count": null,
   "metadata": {
    "pycharm": {
     "name": "#%%\n",
     "is_executing": true
    }
   },
   "outputs": [],
   "source": [
    "data_cond['std'] = normalized_stddevs"
   ]
  },
  {
   "cell_type": "code",
   "execution_count": null,
   "metadata": {
    "pycharm": {
     "name": "#%%\n",
     "is_executing": true
    }
   },
   "outputs": [],
   "source": [
    "data_cond.head()"
   ]
  },
  {
   "cell_type": "markdown",
   "metadata": {
    "pycharm": {
     "name": "#%% md\n"
    }
   },
   "source": [
    "#### Add informative columns "
   ]
  },
  {
   "cell_type": "code",
   "execution_count": null,
   "metadata": {
    "pycharm": {
     "name": "#%%\n",
     "is_executing": true
    }
   },
   "outputs": [],
   "source": [
    "data_cond[NEUTRON_PROTON_PHOTON_SUM_COLS] = neutron_proton_photon_sum_data"
   ]
  },
  {
   "cell_type": "code",
   "execution_count": null,
   "metadata": {
    "pycharm": {
     "name": "#%%\n",
     "is_executing": true
    }
   },
   "outputs": [],
   "source": [
    "data_cond.head()"
   ]
  },
  {
   "cell_type": "code",
   "execution_count": 62,
   "metadata": {
    "pycharm": {
     "name": "#%%\n"
    }
   },
   "outputs": [],
   "source": [
    "# replace the initial version of the `data_cond` with an updated one\n",
    "data_cond.to_pickle(os.path.join(DATA_DIR, r\"data_cond_neutron_photonsum_neutron_1_3360.pkl\"))"
   ]
  }
 ],
 "metadata": {
  "accelerator": "GPU",
  "colab": {
   "collapsed_sections": [],
   "machine_shape": "hm",
   "name": "9.Histograms of channels.ipynb",
   "provenance": [
    {
     "file_id": "1v7DslqUD_dNNlM-mwRA8qW4dnYzjF_1q",
     "timestamp": 1623565456686
    }
   ]
  },
  "kernelspec": {
   "name": "tf",
   "language": "python",
   "display_name": "tf"
  },
  "language_info": {
   "codemirror_mode": {
    "name": "ipython",
    "version": 3
   },
   "file_extension": ".py",
   "mimetype": "text/x-python",
   "name": "python",
   "nbconvert_exporter": "python",
   "pygments_lexer": "ipython3",
   "version": "3.9.13"
  },
  "vscode": {
   "interpreter": {
    "hash": "5c7b89af1651d0b8571dde13640ecdccf7d5a6204171d6ab33e7c296e100e08a"
   }
  }
 },
 "nbformat": 4,
 "nbformat_minor": 4
}