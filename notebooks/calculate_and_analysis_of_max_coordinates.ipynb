{
 "cells": [
  {
   "cell_type": "markdown",
   "source": [
    "### This Jupyter notebook performs coordinate extraction and analysis from proton (ZP) and neutron (ZN) detector image data.\n",
    "\n",
    "Key steps include:\n",
    "1. **Data Loading**: Proton and neutron detector images are loaded from `.pkl` files. The files present already limited data according to the filtering on the minimal intensity of samples.\n",
    "2. **Coordinate Extraction**: The pixel coordinates with the maximum values (representing peak signals) are computed for both ZP and ZN.\n",
    "3. **Data Saving**: Extracted coordinates are saved for training and downstream analysis.\n",
    "4. **Coordinate Analysis**:\n",
    "   - Histograms of x and y coordinate distributions.\n",
    "   - KDE heatmaps to show spatial density.\n",
    "   - Basic statistical summary (min, max, mean, median, std).\n",
    "   - Sample image visualization with overlaid coordinates.\n",
    "   - Correlation analysis between image intensity and coordinate location.\n",
    "\n",
    "External utility used: `get_max_value_image_coordinates()` from `utils.utils`\n"
   ],
   "metadata": {
    "collapsed": false,
    "pycharm": {
     "name": "#%% md\n"
    }
   }
  },
  {
   "cell_type": "code",
   "execution_count": 1,
   "outputs": [],
   "source": [
    "%load_ext autoreload\n",
    "%autoreload 2"
   ],
   "metadata": {
    "collapsed": false,
    "pycharm": {
     "name": "#%%\n"
    }
   }
  },
  {
   "cell_type": "code",
   "execution_count": 2,
   "outputs": [],
   "source": [
    "import pandas as pd\n",
    "from expertsim.train.utils import get_max_value_image_coordinates"
   ],
   "metadata": {
    "collapsed": false,
    "pycharm": {
     "name": "#%%\n"
    }
   }
  },
  {
   "cell_type": "markdown",
   "source": [
    "# Proton data"
   ],
   "metadata": {
    "collapsed": false,
    "pycharm": {
     "name": "#%% md\n"
    }
   }
  },
  {
   "cell_type": "markdown",
   "source": [
    "`data_zp_path` should contain the path to the data pickle file containing the images from the proton calorimeter generated from `data_filtering.ipynb`."
   ],
   "metadata": {
    "collapsed": false,
    "pycharm": {
     "name": "#%% md\n"
    }
   }
  },
  {
   "cell_type": "code",
   "execution_count": 3,
   "outputs": [],
   "source": [
    "data_zp_path = r\"data/data_proton_photonsum_proton_1_2312.pkl\"  # load the path to the proton data\n",
    "data_zp = pd.read_pickle(data_zp_path)"
   ],
   "metadata": {
    "collapsed": false,
    "pycharm": {
     "name": "#%%\n"
    }
   }
  },
  {
   "cell_type": "code",
   "execution_count": 4,
   "outputs": [],
   "source": [
    "positions = []\n",
    "for img in data_zp:\n",
    "    coordinates_max = get_max_value_image_coordinates(img)\n",
    "    positions.append(coordinates_max)"
   ],
   "metadata": {
    "collapsed": false,
    "pycharm": {
     "name": "#%%\n"
    }
   }
  },
  {
   "cell_type": "code",
   "execution_count": 5,
   "outputs": [],
   "source": [
    "coordinates_df = pd.DataFrame(data=positions, columns=('max_x', 'max_y'))"
   ],
   "metadata": {
    "collapsed": false,
    "pycharm": {
     "name": "#%%\n"
    }
   }
  },
  {
   "cell_type": "code",
   "execution_count": 6,
   "outputs": [
    {
     "data": {
      "text/plain": "   max_x  max_y\n0      1      9\n1     11      1\n2     37     16\n3     17     40\n4     29     43",
      "text/html": "<div>\n<style scoped>\n    .dataframe tbody tr th:only-of-type {\n        vertical-align: middle;\n    }\n\n    .dataframe tbody tr th {\n        vertical-align: top;\n    }\n\n    .dataframe thead th {\n        text-align: right;\n    }\n</style>\n<table border=\"1\" class=\"dataframe\">\n  <thead>\n    <tr style=\"text-align: right;\">\n      <th></th>\n      <th>max_x</th>\n      <th>max_y</th>\n    </tr>\n  </thead>\n  <tbody>\n    <tr>\n      <th>0</th>\n      <td>1</td>\n      <td>9</td>\n    </tr>\n    <tr>\n      <th>1</th>\n      <td>11</td>\n      <td>1</td>\n    </tr>\n    <tr>\n      <th>2</th>\n      <td>37</td>\n      <td>16</td>\n    </tr>\n    <tr>\n      <th>3</th>\n      <td>17</td>\n      <td>40</td>\n    </tr>\n    <tr>\n      <th>4</th>\n      <td>29</td>\n      <td>43</td>\n    </tr>\n  </tbody>\n</table>\n</div>"
     },
     "execution_count": 6,
     "metadata": {},
     "output_type": "execute_result"
    }
   ],
   "source": [
    "coordinates_df.head()"
   ],
   "metadata": {
    "collapsed": false,
    "pycharm": {
     "name": "#%%\n"
    }
   }
  },
  {
   "cell_type": "code",
   "execution_count": 18,
   "outputs": [],
   "source": [
    "# save the coordinates to a pickle file to be ready for training\n",
    "coordinates_df.to_pickle('data/data_coord_photonsum_proton_1_2312.pkl')"
   ],
   "metadata": {
    "collapsed": false,
    "pycharm": {
     "name": "#%%\n"
    }
   }
  },
  {
   "cell_type": "markdown",
   "source": [],
   "metadata": {
    "collapsed": false,
    "pycharm": {
     "name": "#%% md\n"
    }
   }
  },
  {
   "cell_type": "markdown",
   "source": [
    "# Neutron data"
   ],
   "metadata": {
    "collapsed": false,
    "pycharm": {
     "name": "#%% md\n"
    }
   }
  },
  {
   "cell_type": "markdown",
   "source": [
    "`data_zn_path` should contain the path to the data pickle file containing the images from the neutron calorimeter generated from `data_filtering.ipynb`."
   ],
   "metadata": {
    "collapsed": false,
    "pycharm": {
     "name": "#%% md\n"
    }
   }
  },
  {
   "cell_type": "code",
   "execution_count": 3,
   "outputs": [],
   "source": [
    "data_zn_path = r\"data\\data_neutron_photonsum_neutron_1_3360.pkl\"  # load the path to the neutron data\n",
    "data_zn = pd.read_pickle(data_zn_path)"
   ],
   "metadata": {
    "collapsed": false,
    "pycharm": {
     "name": "#%%\n"
    }
   }
  },
  {
   "cell_type": "code",
   "execution_count": 4,
   "outputs": [],
   "source": [
    "positions = []\n",
    "for img in data_zn:\n",
    "    coordinates_max = get_max_value_image_coordinates(img)\n",
    "    positions.append(coordinates_max)"
   ],
   "metadata": {
    "collapsed": false,
    "pycharm": {
     "name": "#%%\n"
    }
   }
  },
  {
   "cell_type": "code",
   "execution_count": 5,
   "outputs": [],
   "source": [
    "coordinates_df = pd.DataFrame(data=positions, columns=('max_x', 'max_y'))"
   ],
   "metadata": {
    "collapsed": false,
    "pycharm": {
     "name": "#%%\n"
    }
   }
  },
  {
   "cell_type": "code",
   "execution_count": 11,
   "outputs": [
    {
     "data": {
      "text/plain": "   max_x  max_y\n0     26     14\n1      1      9\n2      0     40\n3     22     17\n4     11      1",
      "text/html": "<div>\n<style scoped>\n    .dataframe tbody tr th:only-of-type {\n        vertical-align: middle;\n    }\n\n    .dataframe tbody tr th {\n        vertical-align: top;\n    }\n\n    .dataframe thead th {\n        text-align: right;\n    }\n</style>\n<table border=\"1\" class=\"dataframe\">\n  <thead>\n    <tr style=\"text-align: right;\">\n      <th></th>\n      <th>max_x</th>\n      <th>max_y</th>\n    </tr>\n  </thead>\n  <tbody>\n    <tr>\n      <th>0</th>\n      <td>26</td>\n      <td>14</td>\n    </tr>\n    <tr>\n      <th>1</th>\n      <td>1</td>\n      <td>9</td>\n    </tr>\n    <tr>\n      <th>2</th>\n      <td>0</td>\n      <td>40</td>\n    </tr>\n    <tr>\n      <th>3</th>\n      <td>22</td>\n      <td>17</td>\n    </tr>\n    <tr>\n      <th>4</th>\n      <td>11</td>\n      <td>1</td>\n    </tr>\n  </tbody>\n</table>\n</div>"
     },
     "execution_count": 11,
     "metadata": {},
     "output_type": "execute_result"
    }
   ],
   "source": [
    "coordinates_df.head()"
   ],
   "metadata": {
    "collapsed": false,
    "pycharm": {
     "name": "#%%\n"
    }
   }
  },
  {
   "cell_type": "code",
   "execution_count": 7,
   "outputs": [],
   "source": [
    "# save the coordinates to a pickle file to be ready for training\n",
    "coordinates_df.to_pickle('data/data_coord_photonsum_neutron_1_3360.pkl')"
   ],
   "metadata": {
    "collapsed": false,
    "pycharm": {
     "name": "#%%\n"
    }
   }
  },
  {
   "cell_type": "markdown",
   "source": [
    "# Analyze the coordinates"
   ],
   "metadata": {
    "collapsed": false,
    "pycharm": {
     "name": "#%% md\n"
    }
   }
  },
  {
   "cell_type": "markdown",
   "source": [
    "A. Dataset Analysis\n",
    "Coordinate Distribution Analysis\n",
    "\n",
    "1. Generate histograms of coordinate distributions (x and y separately)\n",
    "2. Create heatmaps showing spatial density of coordinates\n",
    "3. Calculate statistical measures (min, max, mean, median, std) for both coordinates\n",
    "4. Visualize sample images with their corresponding coordinates"
   ],
   "metadata": {
    "collapsed": false,
    "pycharm": {
     "name": "#%% md\n"
    }
   }
  },
  {
   "cell_type": "code",
   "execution_count": 3,
   "outputs": [],
   "source": [
    "import numpy as np\n",
    "import pandas as pd\n",
    "import matplotlib.pyplot as plt\n",
    "import seaborn as sns\n",
    "import os\n",
    "import sys\n",
    "\n",
    "# Global font size increase for better readability\n",
    "plt.rcParams.update({'font.size': 14})\n",
    "\n",
    "def coordinate_distribution_analysis(df, output_dir, image_shape=(56, 30)):\n",
    "    \"\"\"Save coordinate distribution plots and return stats\"\"\"\n",
    "    fig, axs = plt.subplots(1, 2, figsize=(14, 6))\n",
    "\n",
    "    axs[0].hist(df['max_x'], bins=50, color='blue', alpha=0.8, label='max pixel value coordiante')\n",
    "    axs[0].set_xlabel('X Coordinate')\n",
    "    axs[0].set_ylabel('Frequency')\n",
    "    axs[0].set_title('Distribution of X Coordinates')\n",
    "    # axs[0].legend()\n",
    "\n",
    "    axs[1].hist(df['max_y'], bins=50, color='green', alpha=0.8, label='max_y Distribution')\n",
    "    axs[1].set_xlabel('Y Coordinate')\n",
    "    axs[1].set_ylabel('Frequency')\n",
    "    axs[1].set_title('Distribution of Y Coordinates')\n",
    "    # axs[1].legend()\n",
    "\n",
    "    plt.tight_layout()\n",
    "    plt.savefig(os.path.join(output_dir, 'coordinate_histograms.png'))\n",
    "    plt.close()\n",
    "\n",
    "    # Calculate statistics\n",
    "    stats = df[['max_x', 'max_y']].agg(['min', 'max', 'mean', 'median', 'std']).T\n",
    "    print(\"Statistical summary:\\n\", stats)\n",
    "    return stats\n",
    "\n",
    "def visualize_sample_images(df, data, output_dir, n_samples=5, image_shape=(56, 30)):\n",
    "    \"\"\"Save sample images with coordinates using a colored palette\"\"\"\n",
    "    sample_indices = np.random.choice(df.index, n_samples, replace=False)\n",
    "    if image_shape[0] == 56:\n",
    "        fig, axs = plt.subplots(1, n_samples, figsize=(2.25*n_samples + 0.75*n_samples, 5), sharey=True)  # Increased width for colorbars\n",
    "    else:\n",
    "        fig, axs = plt.subplots(1, n_samples, figsize=(2*n_samples + 2*n_samples, 5), sharey=True)\n",
    "\n",
    "    img_height, img_width = data.shape[1:3] if len(data.shape) > 2 else image_shape\n",
    "\n",
    "    for i, idx in enumerate(sample_indices):\n",
    "        # Convert coordinates to integers\n",
    "        x_int = int(round(df.loc[idx, 'max_x']))\n",
    "        y_int = int(round(df.loc[idx, 'max_y']))\n",
    "\n",
    "        # Compute per-image min and max for individual scaling\n",
    "        img_min = np.min(data[idx])\n",
    "        img_max = np.max(data[idx])\n",
    "\n",
    "        # Plot image with inverted Y-axis (0 on top)\n",
    "        im = axs[i].imshow(data[idx], cmap='viridis', extent=[0, img_width, img_height, 0],\n",
    "                           vmin=img_min, vmax=img_max)  # Individual scaling and inverted Y\n",
    "\n",
    "        axs[i].set_title(f\"X: {x_int}\\nY: {y_int}\", fontsize=14)  # Use integer coordinates\n",
    "        axs[i].grid(True, alpha=0.1)  # Add grids with very low opacity\n",
    "\n",
    "        # Set grid every 5 values\n",
    "        if image_shape[0] == 56:\n",
    "            axs[i].set_xticks(np.arange(0, img_width + 1, 5))\n",
    "            axs[i].set_yticks(np.arange(0, img_height + 1, 5))\n",
    "        else:\n",
    "            axs[i].set_xticks(np.arange(0, img_width + 1, 10))\n",
    "            axs[i].set_yticks(np.arange(0, img_height + 1, 10))\n",
    "\n",
    "        # Add axis labels (OY as \"X coordinate\", OX as \"Y coordinate\")\n",
    "        if i == 0:  # Only label leftmost for shared axes\n",
    "            axs[i].set_ylabel('X coordinate')  # OY (vertical) as \"X coordinate\"\n",
    "        axs[i].set_xlabel('Y coordinate')  # OX (horizontal) as \"Y coordinate\"\n",
    "\n",
    "        # Add individual colorbar for each subplot\n",
    "        cbar = fig.colorbar(im, ax=axs[i], orientation='vertical', fraction=0.046, pad=0.04)\n",
    "        cbar.set_label('Intensity', fontsize=12)\n",
    "\n",
    "    plt.suptitle('Sample Images with Corresponding Coordinates', fontsize=16)\n",
    "    plt.subplots_adjust(wspace=0.3, hspace=0.05, right=0.95)  # Increased wspace for colorbars\n",
    "\n",
    "    plt.savefig(os.path.join(output_dir, 'sample_images.png'))\n",
    "    plt.close()\n",
    "    return sample_indices\n",
    "\n",
    "\n",
    "def image_coordinate_relationship(df, data, sample_indices, output_dir):\n",
    "    \"\"\"Save correlation analysis plots with improved labels\"\"\"\n",
    "    image_features = data[sample_indices].mean(axis=(1, 2))\n",
    "    coords_x = df.loc[sample_indices, 'max_x']\n",
    "    coords_y = df.loc[sample_indices, 'max_y']\n",
    "\n",
    "    # Calculate correlations\n",
    "    corr_x = np.corrcoef(image_features, coords_x)[0, 1]\n",
    "    corr_y = np.corrcoef(image_features, coords_y)[0, 1]\n",
    "    print(f\"Correlation between mean image intensity and max_x: {corr_x:.3f}\")\n",
    "    print(f\"Correlation between mean image intensity and max_y: {corr_y:.3f}\")\n",
    "\n",
    "    # Create scatter plots with improved labels and colors\n",
    "    plt.figure(figsize=(10, 4))\n",
    "    plt.subplot(1, 2, 1)\n",
    "    plt.scatter(coords_x, image_features, color='blue', alpha=0.6, label='Data Points')\n",
    "    plt.xlabel('Maximum X Coordinate')\n",
    "    plt.ylabel('Mean Pixel Intensity')\n",
    "    plt.title('Mean Intensity vs Maximum X Coordinate')\n",
    "    plt.legend()\n",
    "\n",
    "    plt.subplot(1, 2, 2)\n",
    "    plt.scatter(coords_y, image_features, color='green', alpha=0.6, label='Data Points')\n",
    "    plt.xlabel('Maximum Y Coordinate')\n",
    "    plt.ylabel('Mean Pixel Intensity')\n",
    "    plt.title('Mean Intensity vs Maximum Y Coordinate')\n",
    "    plt.legend()\n",
    "\n",
    "    plt.tight_layout()\n",
    "    plt.savefig(os.path.join(output_dir, 'feature_vs_coordinates.png'))\n",
    "    plt.close()\n",
    "\n",
    "def preliminary_analysis(df, data, output_dir=\"proton_dataset\", image_shape=(56, 30)):\n",
    "    \"\"\"Main analysis function that saves all outputs\"\"\"\n",
    "    os.makedirs(output_dir, exist_ok=True)\n",
    "\n",
    "    # Create a logger that writes to both console and file\n",
    "    class DualLogger:\n",
    "        def __init__(self, log_file):\n",
    "            self.console = sys.stdout\n",
    "            self.log_file = open(log_file, 'w')\n",
    "\n",
    "        def write(self, message):\n",
    "            self.console.write(message)\n",
    "            self.log_file.write(message)\n",
    "\n",
    "        def flush(self):\n",
    "            self.console.flush()\n",
    "            self.log_file.flush()\n",
    "\n",
    "        def close(self):\n",
    "            self.log_file.close()\n",
    "\n",
    "    logger = DualLogger(os.path.join(output_dir, 'analysis_report.txt'))\n",
    "\n",
    "    try:\n",
    "        sys.stdout = logger\n",
    "\n",
    "        print(\"=== Starting Analysis ===\\n\")\n",
    "        print(\"=== Coordinate Distribution Analysis ===\")\n",
    "        stats = coordinate_distribution_analysis(df, output_dir, image_shape=image_shape)\n",
    "\n",
    "        print(\"\\n=== Visualizing Sample Images ===\")\n",
    "        sample_indices = visualize_sample_images(df, data, output_dir, image_shape=image_shape)\n",
    "\n",
    "        print(\"\\n=== Image-Coordinate Relationship Analysis ===\")\n",
    "        image_coordinate_relationship(df, data, sample_indices, output_dir)\n",
    "\n",
    "        print(\"\\n=== Analysis Complete ===\")\n",
    "    finally:\n",
    "        sys.stdout = logger.console\n",
    "        logger.close()"
   ],
   "metadata": {
    "collapsed": false,
    "pycharm": {
     "name": "#%%\n"
    }
   }
  },
  {
   "cell_type": "markdown",
   "source": [
    "# Load the above created files for coordinates"
   ],
   "metadata": {
    "collapsed": false,
    "pycharm": {
     "name": "#%% md\n"
    }
   }
  },
  {
   "cell_type": "markdown",
   "source": [
    "`data_zp_path` should contain the path to the data pickle file containing the images from the proton calorimeter generated from `data_filtering.ipynb`.\n",
    "`data_zn_path` should contain the path to the data pickle file containing the images from the neutron calorimeter generated from `data_filtering.ipynb`.\n",
    "`coordinates_zp` should contain the path to the pickle file created above, containing the coordinates extracted from the proton calorimeter images.\n",
    "`coordinates_zn` should contain the path to the pickle file created above, containing the coordinates extracted from the neutron calorimeter images."
   ],
   "metadata": {
    "collapsed": false,
    "pycharm": {
     "name": "#%% md\n"
    }
   }
  },
  {
   "cell_type": "markdown",
   "source": [
    "## Analysis for ZP"
   ],
   "metadata": {
    "collapsed": false,
    "pycharm": {
     "name": "#%% md\n"
    }
   }
  },
  {
   "cell_type": "code",
   "execution_count": 4,
   "outputs": [],
   "source": [
    "# load the data\n",
    "coordinates_zp = pd.read_pickle(r\"data\\data_coord_photonsum_proton_1_2312.pkl\")\n",
    "data_zp = pd.read_pickle(r\"data\\data_proton_photonsum_proton_1_2312.pkl\")"
   ],
   "metadata": {
    "collapsed": false,
    "pycharm": {
     "name": "#%%\n"
    }
   }
  },
  {
   "cell_type": "code",
   "execution_count": 5,
   "outputs": [
    {
     "name": "stdout",
     "output_type": "stream",
     "text": [
      "=== Starting Analysis ===\n",
      "\n",
      "=== Coordinate Distribution Analysis ===\n",
      "Statistical summary:\n",
      "        min   max       mean  median        std\n",
      "max_x  0.0  55.0  12.214558     6.0  14.164982\n",
      "max_y  0.0  29.0  13.605773    14.0   8.829163\n",
      "\n",
      "=== Visualizing Sample Images ===\n",
      "\n",
      "=== Image-Coordinate Relationship Analysis ===\n",
      "Correlation between mean image intensity and max_x: -0.629\n",
      "Correlation between mean image intensity and max_y: 0.207\n",
      "\n",
      "=== Analysis Complete ===\n"
     ]
    }
   ],
   "source": [
    "output_dir = \"zp_coordinates_analysis/\"\n",
    "preliminary_analysis(coordinates_zp, data_zp, output_dir)"
   ],
   "metadata": {
    "collapsed": false,
    "pycharm": {
     "name": "#%%\n"
    }
   }
  },
  {
   "cell_type": "markdown",
   "source": [
    "## Analysis for ZN"
   ],
   "metadata": {
    "collapsed": false,
    "pycharm": {
     "name": "#%% md\n"
    }
   }
  },
  {
   "cell_type": "code",
   "execution_count": 4,
   "outputs": [],
   "source": [
    "# load the data\n",
    "coordinates_zn = pd.read_pickle(r\"data\\data_coord_photonsum_neutron_1_3360.pkl\")\n",
    "data_zn = pd.read_pickle(r\"data\\data_neutron_photonsum_neutron_1_3360.pkl\")"
   ],
   "metadata": {
    "collapsed": false,
    "pycharm": {
     "name": "#%%\n"
    }
   }
  },
  {
   "cell_type": "code",
   "execution_count": 5,
   "outputs": [
    {
     "name": "stdout",
     "output_type": "stream",
     "text": [
      "=== Starting Analysis ===\n",
      "\n",
      "=== Coordinate Distribution Analysis ===\n",
      "Statistical summary:\n",
      "        min   max       mean  median        std\n",
      "max_x  0.0  43.0  22.250632    22.0  12.713540\n",
      "max_y  0.0  43.0  21.830041    22.0  13.147766\n",
      "\n",
      "=== Visualizing Sample Images ===\n",
      "\n",
      "=== Image-Coordinate Relationship Analysis ===\n",
      "Correlation between mean image intensity and max_x: -0.664\n",
      "Correlation between mean image intensity and max_y: -0.372\n",
      "\n",
      "=== Analysis Complete ===\n"
     ]
    }
   ],
   "source": [
    "output_dir = \"zn_coordinates_analysis/\"\n",
    "preliminary_analysis(coordinates_zn, data_zn, output_dir, image_shape=(44, 44))"
   ],
   "metadata": {
    "collapsed": false,
    "pycharm": {
     "name": "#%%\n"
    }
   }
  }
 ],
 "metadata": {
  "kernelspec": {
   "display_name": "Python 3",
   "language": "python",
   "name": "python3"
  },
  "language_info": {
   "codemirror_mode": {
    "name": "ipython",
    "version": 2
   },
   "file_extension": ".py",
   "mimetype": "text/x-python",
   "name": "python",
   "nbconvert_exporter": "python",
   "pygments_lexer": "ipython2",
   "version": "2.7.6"
  }
 },
 "nbformat": 4,
 "nbformat_minor": 0
}